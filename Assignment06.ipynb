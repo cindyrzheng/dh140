{
 "cells": [
  {
   "cell_type": "markdown",
   "id": "3b044961-28cc-41d1-9ce3-d0e2c34b38f8",
   "metadata": {},
   "source": [
    "## Shakespeare Word Frequency"
   ]
  },
  {
   "cell_type": "code",
   "execution_count": 1,
   "id": "2f11a94d-efd1-4c54-80d1-d23da491d432",
   "metadata": {},
   "outputs": [],
   "source": [
    "import requests\n",
    "response = requests.get('https://www.gutenberg.org/files/1514/1514-0.txt')"
   ]
  },
  {
   "cell_type": "code",
   "execution_count": 22,
   "id": "16e9c365-b00e-4f14-b110-76a0acadbd62",
   "metadata": {},
   "outputs": [],
   "source": [
    "play = response.text\n",
    "play = play.split(\"***\")[2]\n",
    "play = play.replace(\"\\n\", \" \")\n",
    "play = play.replace(\"\\r\", \" \")"
   ]
  },
  {
   "cell_type": "code",
   "execution_count": 17,
   "id": "a9cba7f8-08d0-45cd-a732-4bb8c83eaf48",
   "metadata": {},
   "outputs": [
    {
     "name": "stderr",
     "output_type": "stream",
     "text": [
      "[nltk_data] Downloading package stopwords to /home/jovyan/nltk_data...\n",
      "[nltk_data]   Unzipping corpora/stopwords.zip.\n"
     ]
    },
    {
     "data": {
      "text/plain": [
       "True"
      ]
     },
     "execution_count": 17,
     "metadata": {},
     "output_type": "execute_result"
    }
   ],
   "source": [
    "import nltk\n",
    "from nltk.corpus import stopwords\n",
    "from string import punctuation\n",
    "nltk.download('stopwords')"
   ]
  },
  {
   "cell_type": "code",
   "execution_count": 18,
   "id": "c60dd4b3-7959-4ff5-9246-01fd551f4d82",
   "metadata": {},
   "outputs": [],
   "source": [
    "from nltk.tokenize import word_tokenize, sent_tokenize"
   ]
  },
  {
   "cell_type": "code",
   "execution_count": 39,
   "id": "812f0787-947a-4718-abcc-71be37194f4b",
   "metadata": {},
   "outputs": [],
   "source": [
    "sent = sent_tokenize(play)\n",
    "words = []\n",
    "for s in sent:\n",
    "    for w in word_tokenize(s):\n",
    "        words.append(w.lower())"
   ]
  },
  {
   "cell_type": "code",
   "execution_count": 49,
   "id": "da86dd64-572f-4fb1-a43b-a100acb0b022",
   "metadata": {},
   "outputs": [],
   "source": [
    "myStopWords = list(punctuation) + stopwords.words('english')\n",
    "\n",
    "wordsNoStop = []\n",
    "for i in words:\n",
    "    if i.lower() not in myStopWords:\n",
    "        wordsNoStop.append(i)"
   ]
  },
  {
   "cell_type": "code",
   "execution_count": 50,
   "id": "1096083d-269c-4554-a85a-629eb28973da",
   "metadata": {},
   "outputs": [],
   "source": [
    "playWordDist = nltk.FreqDist(w.lower() for w in wordsNoStop)"
   ]
  },
  {
   "cell_type": "code",
   "execution_count": 55,
   "id": "55d6d0f4-5cec-484a-bbb6-6e14b417bb74",
   "metadata": {},
   "outputs": [
    {
     "name": "stdout",
     "output_type": "stream",
     "text": [
      "thou\n",
      "love\n",
      "lysander\n",
      "hermia\n",
      "demetrius\n",
      "shall\n",
      "helena\n",
      "theseus\n",
      "thy\n",
      "bottom\n",
      "thee\n",
      "come\n",
      "pyramus\n",
      "enter\n",
      "quince\n",
      "puck\n",
      "man\n",
      "sweet\n",
      "oberon\n",
      "thisbe\n"
     ]
    }
   ],
   "source": [
    "top20 = playWordDist.most_common(20)\n",
    "for t in top20: \n",
    "    print(t[0])"
   ]
  },
  {
   "cell_type": "markdown",
   "id": "1743d38f-cb46-431a-b7de-b4a1142a9134",
   "metadata": {},
   "source": [
    "#### Comment on whether these words give an accurate sense of the play\n",
    "These top 20 words don't give a accurate sense of the play. \n",
    "\n",
    "There are too many names, and names convey nothing about the play without actions of those people owning those names in the play. \n",
    "\n",
    "Also, there are too many words that would be considered stop words in Shakespearean English that aren't in our English stopword dictionary- for example, \"thee\", \"thou\" would probably be stopwords if we had a Shakespearean stopword dictionary. \n",
    "While we can see \"love\" and draw that this play does have a romantic element, it's still way too broad to give us any sense of what else the play is about, or even what sentiment it holds about love. "
   ]
  },
  {
   "cell_type": "markdown",
   "id": "0bb09c5d-1512-470c-8c07-92d4147e5c14",
   "metadata": {},
   "source": [
    "## Yelp Sentiments"
   ]
  },
  {
   "cell_type": "code",
   "execution_count": 78,
   "id": "517e71e2-d8f6-4fbd-a506-ca3e72dc8254",
   "metadata": {},
   "outputs": [],
   "source": [
    "reviews = []\n",
    "review_scores = [5, 5, 5, 4, 5, 5, 5, 5, 4, 5, 5, 5, 5, 2, 2]\n"
   ]
  },
  {
   "cell_type": "code",
   "execution_count": 87,
   "id": "57190376-6d45-42f6-a9e8-4e3d315ce8e3",
   "metadata": {},
   "outputs": [],
   "source": [
    "reviews.append('Chimac Star is my go-to Korean fried chicken spot. Their chicken is perfectly crispy, incredibly juicy, and so flavorful--even the regular fried chicken which is my main. They don\\'t have a buffalo flavor (I know, I know--this is a KFC spot) so I usually end up dousing Frank\\'s Hot Sauce on their regular fried chicken and it\\'s so legit. The prices are a bit higher than other chicken joints, but that\\'s because the portions are huge.I have not been in the restaurant since the panini but when I used to dine-in, I really appreciated the free underground parking and chill vibe. It was the perfect place to gather with friends, order a bunch of chicken and few pitchers of beer, and not feel rushed or like you had to bounce to another bar to continue your night.I\\'ve never had a bad experience with their takeout/delivery. They package their food as best they can to reduce sogginess which is expected when you order hot fried foods (side eyeing reviews that whine about their hot food producing condensation in a container). I just pop half my order into a toaster oven for a few min to re-crisp; no big deal. The last time I ordered delivery, the fries were still crispy and hot! I literally order from Chimac Star at least twice a month (sorry, arteries).')"
   ]
  },
  {
   "cell_type": "code",
   "execution_count": 88,
   "id": "aee18870-f5d1-43cb-b4e3-fee44ddeb334",
   "metadata": {},
   "outputs": [],
   "source": [
    "reviews.append('Everyone who worked was kind and listened to our needs well. The food was all delicious')"
   ]
  },
  {
   "cell_type": "code",
   "execution_count": 89,
   "id": "b4e34326-1f8b-44bb-8f4f-11e654925a02",
   "metadata": {},
   "outputs": [],
   "source": [
    "reviews.append('My mouth is watering just thinking about this place. This is everything I wanted and more from a Korean fried chicken. *chefs kiss*')"
   ]
  },
  {
   "cell_type": "code",
   "execution_count": 90,
   "id": "385789de-430d-42f9-95f4-6144fad774c0",
   "metadata": {},
   "outputs": [],
   "source": [
    "reviews.append('A very lowkey place in kind of a shady area but such high quality chicken. ')"
   ]
  },
  {
   "cell_type": "code",
   "execution_count": 91,
   "id": "d89841b9-a31a-457d-8464-b2ac4cedcfa4",
   "metadata": {},
   "outputs": [],
   "source": [
    "reviews.append('There are a lot of Korean fried chicken places, but this place is the best. This place has the best Korean fried chicken in all the land and all fried chicken must now before the greatness of this food.')"
   ]
  },
  {
   "cell_type": "code",
   "execution_count": 92,
   "id": "318c621f-df3c-4a24-9da2-13441377a2ce",
   "metadata": {},
   "outputs": [],
   "source": [
    "reviews.append('Definitely one of my go to k chicken spots. Love the sauces I think we\\'ve tried them all at this point. I like to either get plain or honey garlic with a spicy sauce to dip it in. I love the Korean and the legend of spicy. Wife loves sweet tango and snow.(can\\'t get snow as a dipping sauce). They do boneless perfectly. Love the rice tteokbokki that comes with it')"
   ]
  },
  {
   "cell_type": "code",
   "execution_count": 93,
   "id": "be753a03-3afd-4c4a-b627-cb9f9b3d6ec3",
   "metadata": {},
   "outputs": [],
   "source": [
    "reviews.append('I could eat their fried rice cakes plain and still be a happy camper.')"
   ]
  },
  {
   "cell_type": "code",
   "execution_count": 94,
   "id": "20287275-7d41-46e7-a621-fdf2bb9652e7",
   "metadata": {},
   "outputs": [],
   "source": [
    "reviews.append('This place deserves 5 stars just for the food alone.')"
   ]
  },
  {
   "cell_type": "code",
   "execution_count": 95,
   "id": "a31f3627-5e31-4992-b4f5-b2be730a748a",
   "metadata": {},
   "outputs": [],
   "source": [
    "reviews.append('I\\'m so glad that they were still open!! Best fried chicken in K-town (highly recommend the honey garlic soy, honey butter, and snow)  They also had a free glass of beer promo going on so that went really well with the chicken!!')"
   ]
  },
  {
   "cell_type": "code",
   "execution_count": 96,
   "id": "7bf8d425-ea7d-4f5a-80c8-3be70267caa6",
   "metadata": {},
   "outputs": [],
   "source": [
    "reviews.append('The best korean fried chicken I\\'ve ever eaten. It was crispy and the honey garlic soy sauce is so good it makes me cry. The meat is juicy in the inside as well. I love they they deep fry rice cakes with it! I would order from here again.')"
   ]
  },
  {
   "cell_type": "code",
   "execution_count": 97,
   "id": "c8155d12-02ec-47a6-b15a-b5b0104c83af",
   "metadata": {},
   "outputs": [],
   "source": [
    "reviews.append('Honey Butter chicken is the best ooooolalala so good must get it. Does take awhile, so call before you head there. AND GET HONEY BUTTER CHICKEN')"
   ]
  },
  {
   "cell_type": "code",
   "execution_count": 98,
   "id": "71335ee8-3e3b-44bb-a089-20913dadb828",
   "metadata": {},
   "outputs": [],
   "source": [
    "reviews.append('If you\\'re coming for dinner, great choice. If you\\'re coming for drinks... don\\'t expect it to be lit.')"
   ]
  },
  {
   "cell_type": "code",
   "execution_count": 99,
   "id": "c95581f5-38e6-4de9-b0f6-f1ab75ef8a05",
   "metadata": {},
   "outputs": [],
   "source": [
    "reviews.append('The fried chicken and garlic fries here are AMAZING!!!! Soooo worth it! I would eat here everyday if I could!')"
   ]
  },
  {
   "cell_type": "code",
   "execution_count": 100,
   "id": "d63a5d21-179d-4b09-8931-aacce5090f9c",
   "metadata": {},
   "outputs": [],
   "source": [
    "reviews.append('We went in the early afternoon craving some korean fried chicken and it was open. I should\\'ve stopped myself when I saw that it looked more like a bar (hence chimac \"chicken plus beer\"). I do think this would probably be a good late night drunk food place. However, not being drunk, I was immediately offput by the strong bathroom smell when I walked through the door. This smell extended to the place where we sat down, across the room. We were the only patrons in the restaurant, to my knowledge. Not doing well with the smell, I decided to get take-out instead. Excited to eat the chicken asap, I opened it when I got to the car. Although crispy, the spicy chicken didn\\'t have a strong flavor at all. It was oily but bland.')"
   ]
  },
  {
   "cell_type": "code",
   "execution_count": 101,
   "id": "0b75c892-db3b-44f9-8544-744e43921b7f",
   "metadata": {},
   "outputs": [],
   "source": [
    "reviews.append('Chicken is very dry and lacks flavor.')"
   ]
  },
  {
   "cell_type": "code",
   "execution_count": 102,
   "id": "ce8af6a9-1eec-4276-ada8-2d4ec50ef4ba",
   "metadata": {},
   "outputs": [
    {
     "name": "stderr",
     "output_type": "stream",
     "text": [
      "[nltk_data] Downloading package vader_lexicon to\n",
      "[nltk_data]     /home/jovyan/nltk_data...\n",
      "[nltk_data]   Package vader_lexicon is already up-to-date!\n"
     ]
    }
   ],
   "source": [
    "from nltk.sentiment import vader\n",
    "nltk.download('vader_lexicon')\n",
    "sia = vader.SentimentIntensityAnalyzer()"
   ]
  },
  {
   "cell_type": "code",
   "execution_count": 106,
   "id": "adb381b4-71c5-4736-b4eb-15fb2183d495",
   "metadata": {},
   "outputs": [
    {
     "name": "stdout",
     "output_type": "stream",
     "text": [
      "1\n",
      "Polarity:  {'neg': 0.025, 'neu': 0.829, 'pos': 0.145, 'compound': 0.9856}\n",
      "Actual score: 5\n",
      "2\n",
      "Polarity:  {'neg': 0.0, 'neu': 0.586, 'pos': 0.414, 'compound': 0.8481}\n",
      "Actual score: 5\n",
      "3\n",
      "Polarity:  {'neg': 0.0, 'neu': 1.0, 'pos': 0.0, 'compound': 0.0}\n",
      "Actual score: 5\n",
      "4\n",
      "Polarity:  {'neg': 0.0, 'neu': 1.0, 'pos': 0.0, 'compound': 0.0}\n",
      "Actual score: 4\n",
      "5\n",
      "Polarity:  {'neg': 0.0, 'neu': 0.756, 'pos': 0.244, 'compound': 0.9274}\n",
      "Actual score: 5\n",
      "6\n",
      "Polarity:  {'neg': 0.0, 'neu': 0.665, 'pos': 0.335, 'compound': 0.9829}\n",
      "Actual score: 5\n",
      "7\n",
      "Polarity:  {'neg': 0.0, 'neu': 0.748, 'pos': 0.252, 'compound': 0.5719}\n",
      "Actual score: 5\n",
      "8\n",
      "Polarity:  {'neg': 0.2, 'neu': 0.8, 'pos': 0.0, 'compound': -0.25}\n",
      "Actual score: 5\n",
      "9\n",
      "Polarity:  {'neg': 0.0, 'neu': 0.681, 'pos': 0.319, 'compound': 0.9506}\n",
      "Actual score: 4\n",
      "10\n",
      "Polarity:  {'neg': 0.052, 'neu': 0.704, 'pos': 0.244, 'compound': 0.9087}\n",
      "Actual score: 5\n",
      "11\n",
      "Polarity:  {'neg': 0.0, 'neu': 0.765, 'pos': 0.235, 'compound': 0.8122}\n",
      "Actual score: 5\n",
      "12\n",
      "Polarity:  {'neg': 0.0, 'neu': 0.806, 'pos': 0.194, 'compound': 0.6249}\n",
      "Actual score: 5\n",
      "13\n",
      "Polarity:  {'neg': 0.0, 'neu': 0.847, 'pos': 0.153, 'compound': 0.471}\n",
      "Actual score: 5\n",
      "14\n",
      "Polarity:  {'neg': 0.048, 'neu': 0.877, 'pos': 0.075, 'compound': 0.5558}\n",
      "Actual score: 2\n",
      "15\n",
      "Polarity:  {'neg': 0.0, 'neu': 1.0, 'pos': 0.0, 'compound': 0.0}\n",
      "Actual score: 2\n"
     ]
    }
   ],
   "source": [
    "\n",
    "for i in range(0, 15):\n",
    "    print(i+1)\n",
    "    print(\"Polarity: \", sia.polarity_scores(reviews[i]))\n",
    "    print(\"Actual score:\", review_scores[i])"
   ]
  },
  {
   "cell_type": "markdown",
   "id": "081a4b7d-c89b-49c3-a796-b30d8bd86d8a",
   "metadata": {},
   "source": [
    "Overall, you can see that the polarity is pretty good at recognizing the 5 star reviews as being good. The one outlier is where 'This place deserves 5 stars just for the food alone.' gets a negative score. This is because in the Yelp context, 5 stars is good, but it also includes words like \"alone\" which have a negative context at other times, whereas in this case the \"alone\" is used to highlight the food. \n",
    "It was bad at recognizing bad reviews though, as a negative review saying the chicken was dry was seen as neutral. This is probably because dry chicken doesn't necessarily have a negative or bad connotation to those 2 words, but in the context of food reviewing, it does. \n"
   ]
  },
  {
   "cell_type": "markdown",
   "id": "a675e6fe-6ed9-48f8-8349-73cd89dccd77",
   "metadata": {},
   "source": [
    "## Your Movie Reviews"
   ]
  },
  {
   "cell_type": "code",
   "execution_count": 146,
   "id": "83e81727-9042-4f40-8bac-f14c867901a3",
   "metadata": {},
   "outputs": [],
   "source": [
    "comedies = [\"From writer/director Amy Heckerling comes the teen comedy Clueless. When a superficial valley girl attempts to become more altruistic she takes a new transfer student at her high school under her wing and mentors her. Alicia Silverstone, Brittany Murphy, Paul Rudd, and Breckin Meyer lead the cast and have good chemistry together. However, it's Silverstone's charisma that gives the film its charm and personality. Still, the ditziness of the characters gets a little annoying and their conflicts are rather mundane. Additionally, there's a bit of weirdness with a step-sibling romance. Clueless has some interesting things to say and a positive social message, but it tries too hard.\",\n",
    "\n",
    "\"One of the most quotable movies of this century, Mean Girls, is a cult classic on a large scale. We see Lindsay Lohan before the train went off the tracks and she really delivers a fun performance. The dialogue is done well and manages to stay current. The movie flows very well and constantly has the audiences' attention. There is an actual arch for our main character and we root for her throughout. This movie is an example of a great set up, great delivery, and finishing with a lighthearted punch. This is a feel-good movie that can be turned on whenever you're hanging out with your friends.\",\n",
    "\n",
    "\"Booksmart is stylishly directed and genuine to the core. This coming-of-age/high-school film is hysterical, charming and surprisingly sincere overall thanks to its outstanding leads in Dever and Feldstein, its colorful supporting cast and unique vision from first-time-director, Olivia Wilde; making for one of the best this year and this decade. 4.55/5.\",\n",
    "\n",
    "\"Lady Bird combines wisdom and tenderness, humor and grace. It's light-footed without being lightweight. And it captures, with great feeling, the turbulence of a girl growing up. I can't recommend it enough.\",\n",
    "\n",
    "\n",
    "\"A movie that knows how to be a lot of fun. 21 Jump Street doesn’t take itself too seriously and manages to muster up enough good laughs to make it a semi regular viewing. The two leads have great chemistry and there are some hilarious moments. Good buddy cop movie\"]\n"
   ]
  },
  {
   "cell_type": "code",
   "execution_count": 148,
   "id": "0147b9cb-577d-4d14-ac67-38b22610ac86",
   "metadata": {},
   "outputs": [],
   "source": [
    "clueless = comedies[0]\n",
    "meangirls = comedies[1]\n",
    "booksmart = comedies[2]\n",
    "ladybird = comedies[3]\n",
    "jumpst = comedies[4]"
   ]
  },
  {
   "cell_type": "code",
   "execution_count": 149,
   "id": "f88e7671-4f10-4ec9-8c85-0e995d49a225",
   "metadata": {},
   "outputs": [],
   "source": [
    "dramas = [\"Parasite is fantastic. It's clever. It's funny. It's disturbing. And yes, there is a powerful underlying theme of the divide between rich and poor. But the latter is so deftly weaved into the fabric of the story, you really don't think about it much until a fateful scene before the last act. It fully deserved the Oscar for Best Picture and Director. If only for the peach fuzz fight scene.\", \n",
    "\n",
    "\"Moonlight was nothing short of profound. The cinematography, acting, and compelling story come together to form one of the best films I have seen in a while. Yes, at times the storyline was slow, but that is the point. Chiron's adolescence consisted of long, torturous years of harassment and repression. If the movie had been fast-paced, that essential aspect of Chiron's identity would be lost.\",\n",
    "\n",
    "\"Schindler's List is a silhouette of creativity and a real live portrait of the events that went on during World War II. What's great about it is that you have to go back to it a million times over to truly understand it. The magnitude of something that great is not easily discovered nor explained.\",\n",
    "\n",
    "\"Perfectly executed praise of the power of the press. A stellar cast and flawless direction make for an engaging and highly entertaining result. It doesn't even take major shockers to make this such a satisfying and smart movie. It requires some concentration but is ultimately even more rewarding for it\",\n",
    "\n",
    "\"In every way, this is why film has become the success it has. Classic in every sense of the word. Bogart's performance is the icing on this most delicious of cakes.\"]"
   ]
  },
  {
   "cell_type": "code",
   "execution_count": 150,
   "id": "5660d54f-d1e5-49a4-87bf-78adb0acbfa0",
   "metadata": {},
   "outputs": [],
   "source": [
    "parasite = dramas[0]\n",
    "moonlight = dramas[1]\n",
    "schindlerslist = dramas[2]\n",
    "spotlight = dramas[3]\n",
    "casablanca = dramas[4]"
   ]
  },
  {
   "cell_type": "code",
   "execution_count": 151,
   "id": "a0072e12-442e-47e4-815e-08465dd5d064",
   "metadata": {},
   "outputs": [],
   "source": [
    "movies = comedies + dramas"
   ]
  },
  {
   "cell_type": "code",
   "execution_count": 168,
   "id": "4b0a00b3-86be-4122-b075-a905aae8c99b",
   "metadata": {},
   "outputs": [],
   "source": [
    "extrastop = ['``',\"''\",\"'re\",\"'s\",\"'re\",'``',\"''\",\"'ll\",\"--\",\"\\'\\'\",\"...\",\n",
    "             \"n\\'t\",'one','would','use','subject','from',\"\\'m\",\"\\'ve\", \n",
    "             \"film\", \"movie\", \"director\", \"writer\", \"cast\", \"actor\", \"actress\", \"great\", \"good\", \"best\",\n",
    "             \"lead\", \"act\", \"scene\"]\n",
    "myStopWords = list(punctuation) + stopwords.words('english') + extrastop\n"
   ]
  },
  {
   "cell_type": "code",
   "execution_count": 169,
   "id": "8745f962-7315-4155-89d2-9a0dd7a20f86",
   "metadata": {},
   "outputs": [],
   "source": [
    "movierevs = []\n",
    "for i in movies:\n",
    "    movierevs.append([w for w in word_tokenize(i.lower()) if w not in myStopWords])"
   ]
  },
  {
   "cell_type": "code",
   "execution_count": 170,
   "id": "87238369-1dce-4835-aace-83c5c6d18fe3",
   "metadata": {},
   "outputs": [],
   "source": [
    "from nltk.stem.porter import PorterStemmer\n",
    "#from nltk.stem import LancasterStemmer"
   ]
  },
  {
   "cell_type": "code",
   "execution_count": 171,
   "id": "5e69eec8-79d7-4eaf-97e6-938034d3e2df",
   "metadata": {},
   "outputs": [],
   "source": [
    "# Create p_stemmer of class PorterStemmer\n",
    "p_stemmer = PorterStemmer()"
   ]
  },
  {
   "cell_type": "code",
   "execution_count": 172,
   "id": "67fef14c-e737-4b30-81e2-c6e3f1f1ee89",
   "metadata": {},
   "outputs": [
    {
     "name": "stdout",
     "output_type": "stream",
     "text": [
      "[['writer/director', 'ami', 'heckerl', 'come', 'teen', 'comedi', 'clueless', 'superfici', 'valley', 'girl', 'attempt', 'becom', 'altruist', 'take', 'new', 'transfer', 'student', 'high', 'school', 'wing', 'mentor', 'alicia', 'silverston', 'brittani', 'murphi', 'paul', 'rudd', 'breckin', 'meyer', 'chemistri', 'togeth', 'howev', 'silverston', 'charisma', 'give', 'charm', 'person', 'still', 'ditzi', 'charact', 'get', 'littl', 'annoy', 'conflict', 'rather', 'mundan', 'addit', 'bit', 'weird', 'step-sibl', 'romanc', 'clueless', 'interest', 'thing', 'say', 'posit', 'social', 'messag', 'tri', 'hard'], ['quotabl', 'movi', 'centuri', 'mean', 'girl', 'cult', 'classic', 'larg', 'scale', 'see', 'lindsay', 'lohan', 'train', 'went', 'track', 'realli', 'deliv', 'fun', 'perform', 'dialogu', 'done', 'well', 'manag', 'stay', 'current', 'flow', 'well', 'constantli', 'audienc', 'attent', 'actual', 'arch', 'main', 'charact', 'root', 'throughout', 'exampl', 'set', 'deliveri', 'finish', 'lightheart', 'punch', 'feel-good', 'turn', 'whenev', 'hang', 'friend'], ['booksmart', 'stylishli', 'direct', 'genuin', 'core', 'coming-of-age/high-school', 'hyster', 'charm', 'surprisingli', 'sincer', 'overal', 'thank', 'outstand', 'lead', 'dever', 'feldstein', 'color', 'support', 'uniqu', 'vision', 'first-time-director', 'olivia', 'wild', 'make', 'year', 'decad', '4.55/5'], ['ladi', 'bird', 'combin', 'wisdom', 'tender', 'humor', 'grace', 'light-foot', 'without', 'lightweight', 'captur', 'feel', 'turbul', 'girl', 'grow', 'ca', 'recommend', 'enough'], ['know', 'lot', 'fun', '21', 'jump', 'street', '’', 'take', 'serious', 'manag', 'muster', 'enough', 'laugh', 'make', 'semi', 'regular', 'view', 'two', 'lead', 'chemistri', 'hilari', 'moment', 'buddi', 'cop'], ['parasit', 'fantast', 'clever', 'funni', 'disturb', 'ye', 'power', 'underli', 'theme', 'divid', 'rich', 'poor', 'latter', 'deftli', 'weav', 'fabric', 'stori', 'realli', 'think', 'much', 'fate', 'last', 'fulli', 'deserv', 'oscar', 'pictur', 'peach', 'fuzz', 'fight'], ['moonlight', 'noth', 'short', 'profound', 'cinematographi', 'act', 'compel', 'stori', 'come', 'togeth', 'form', 'film', 'seen', 'ye', 'time', 'storylin', 'slow', 'point', 'chiron', 'adolesc', 'consist', 'long', 'tortur', 'year', 'harass', 'repress', 'fast-pac', 'essenti', 'aspect', 'chiron', 'ident', 'lost'], ['schindler', 'list', 'silhouett', 'creativ', 'real', 'live', 'portrait', 'event', 'went', 'world', 'war', 'ii', 'go', 'back', 'million', 'time', 'truli', 'understand', 'magnitud', 'someth', 'easili', 'discov', 'explain'], ['perfectli', 'execut', 'prais', 'power', 'press', 'stellar', 'flawless', 'direct', 'make', 'engag', 'highli', 'entertain', 'result', 'even', 'take', 'major', 'shocker', 'make', 'satisfi', 'smart', 'requir', 'concentr', 'ultim', 'even', 'reward'], ['everi', 'way', 'becom', 'success', 'classic', 'everi', 'sens', 'word', 'bogart', 'perform', 'ice', 'delici', 'cake']]\n"
     ]
    }
   ],
   "source": [
    "listOfStemmedWords = []\n",
    "for i in movierevs:\n",
    "    listOfStemmedWords.append([p_stemmer.stem(w) for w in i])\n",
    "print(listOfStemmedWords)"
   ]
  },
  {
   "cell_type": "code",
   "execution_count": 173,
   "id": "122e915d-2867-46e7-9169-3cb0f3a87ad9",
   "metadata": {},
   "outputs": [
    {
     "name": "stdout",
     "output_type": "stream",
     "text": [
      "Requirement already satisfied: gensim in /opt/conda/lib/python3.9/site-packages (4.1.2)\n",
      "Requirement already satisfied: numpy>=1.17.0 in /opt/conda/lib/python3.9/site-packages (from gensim) (1.20.3)\n",
      "Requirement already satisfied: scipy>=0.18.1 in /opt/conda/lib/python3.9/site-packages (from gensim) (1.7.1)\n",
      "Requirement already satisfied: smart-open>=1.8.1 in /opt/conda/lib/python3.9/site-packages (from gensim) (5.2.1)\n"
     ]
    }
   ],
   "source": [
    "!pip install gensim"
   ]
  },
  {
   "cell_type": "code",
   "execution_count": 174,
   "id": "952ccca4-e006-404f-90da-68b14f41a998",
   "metadata": {},
   "outputs": [],
   "source": [
    "from gensim import corpora, models\n",
    "import gensim"
   ]
  },
  {
   "cell_type": "code",
   "execution_count": 175,
   "id": "4689c03d-1823-4aea-85c2-9abc3f3a7e6e",
   "metadata": {},
   "outputs": [
    {
     "name": "stdout",
     "output_type": "stream",
     "text": [
      "(0, '0.013*\"make\" + 0.009*\"take\" + 0.009*\"well\" + 0.009*\"fun\" + 0.009*\"manag\" + 0.009*\"went\" + 0.009*\"even\" + 0.009*\"classic\" + 0.009*\"perform\" + 0.009*\"everi\" + 0.006*\"enough\" + 0.006*\"realli\" + 0.006*\"direct\" + 0.006*\"lead\" + 0.006*\"girl\" + 0.006*\"power\" + 0.006*\"charact\" + 0.006*\"time\" + 0.006*\"cult\" + 0.006*\"constantli\"')\n",
      "(1, '0.008*\"silverston\" + 0.008*\"clueless\" + 0.008*\"come\" + 0.008*\"charm\" + 0.008*\"togeth\" + 0.008*\"chiron\" + 0.008*\"ye\" + 0.008*\"stori\" + 0.008*\"year\" + 0.008*\"girl\" + 0.005*\"becom\" + 0.005*\"chemistri\" + 0.005*\"time\" + 0.005*\"take\" + 0.005*\"charact\" + 0.005*\"posit\" + 0.005*\"howev\" + 0.005*\"transfer\" + 0.005*\"student\" + 0.005*\"high\"')\n"
     ]
    }
   ],
   "source": [
    "dictionary = corpora.Dictionary(listOfStemmedWords)\n",
    "corpus = [dictionary.doc2bow(text) for text in listOfStemmedWords]\n",
    "ldamodel = gensim.models.ldamodel.LdaModel(corpus, \n",
    "                                           num_topics=2, \n",
    "                                           id2word = dictionary, \n",
    "                                           passes=20)\n",
    "for i in ldamodel.print_topics(num_topics=2, num_words=20):\n",
    "    print(i)"
   ]
  },
  {
   "cell_type": "markdown",
   "id": "5f661d55-c9b8-4643-bc0b-7ef93c0a45b5",
   "metadata": {},
   "source": [
    "#### Comments: \n",
    "\n",
    "I think that I could pick out 2 groups of movies from the words given. The first would be classic movies, and the second would be comedic high school / school related movies. Classic movies are generally not all dramas (ie not all dramas are classic), but thinking about the 5 movies I selected as dramas, they were almost all considered \"classics\" so it does make sense that the words \"cult\" and \"classic\" were used to identify that category. \n",
    "\n",
    "Also, as for my specific taste, the comedies I chose (booksmart, clueless, mean girls, 21 jump street, lady bird) 5/5 are set in high school so it makes sense that school is mentioned pretty often in that category (student, high as in high school probably, transfer are all mentioned). But for comedies, charm is mentioned, and I do think that it's pretty common for a charming character to occur in comedies over dramas. But on the flip side, chemistry is mentioned for the \"comedy\" category, but chemistry seems to be important in all movies, drama or comedy. Also, the word \"fun\" is associated with the \"classics\" category that I thought was more corresponding to \"drama\", but I would think that comedies are more fun. \n",
    "\n",
    "There are also some words that didn't seem to make sense in that category. My review I selected for Clueless was a little longer than the other reviews which seemed to skew the results as clueless and silverston (meaning Alicia Silverstone, actress in Clueless), and they ended up in the category that I thought would be \"comedy\" despite probably not being universal words.  \n",
    "\n",
    "Overall, I think that this 2 topic analysis was not very good. The main issues for this analysis not doing well are probably because of the small sample size, and because I picked my favorite movies, which fit into specific genres and not a broader sense of comedies vs drama. For example, I view Lady Bird as a comedy but I'm sure many think it's a drama. Addiitonally, \n",
    "\n",
    "\n"
   ]
  },
  {
   "cell_type": "code",
   "execution_count": null,
   "id": "150e2f86-a2a6-446a-b74a-486cc4b09e0a",
   "metadata": {},
   "outputs": [],
   "source": []
  }
 ],
 "metadata": {
  "kernelspec": {
   "display_name": "Python 3 (ipykernel)",
   "language": "python",
   "name": "python3"
  },
  "language_info": {
   "codemirror_mode": {
    "name": "ipython",
    "version": 3
   },
   "file_extension": ".py",
   "mimetype": "text/x-python",
   "name": "python",
   "nbconvert_exporter": "python",
   "pygments_lexer": "ipython3",
   "version": "3.9.6"
  }
 },
 "nbformat": 4,
 "nbformat_minor": 5
}
