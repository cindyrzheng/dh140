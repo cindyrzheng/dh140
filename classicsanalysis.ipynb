{
 "cells": [
  {
   "cell_type": "code",
   "execution_count": 14,
   "id": "55b1df38-116b-448b-9fee-9b785d53aec2",
   "metadata": {},
   "outputs": [],
   "source": [
    "#module import \n",
    "import classics\n",
    "#commands to read the datafile\n",
    "books = classics.get_book() #command to read book data and put into var book and use of the module in the code"
   ]
  },
  {
   "cell_type": "code",
   "execution_count": 16,
   "id": "677a8a61-5be3-4221-84fb-1c3deec1ee46",
   "metadata": {},
   "outputs": [],
   "source": [
    "def calcpercent(num, denom): #function (new function definition)\n",
    "    percent = num/denom*100\n",
    "    return str(round(percent, 2))+\"%\""
   ]
  },
  {
   "cell_type": "code",
   "execution_count": 17,
   "id": "d8c22371-4486-40eb-b466-8ec19044b76a",
   "metadata": {},
   "outputs": [
    {
     "name": "stdout",
     "output_type": "stream",
     "text": [
      "Percent of classic books that are English is 95.92%\n"
     ]
    }
   ],
   "source": [
    "#I want to explore how many english books are in this database. \n",
    "\n",
    "num_engbooks = 0\n",
    "total_books = 0\n",
    "for book in books:\n",
    "    total_books += 1 #mathematical operation\n",
    "    if book['bibliography']['languages'] == 'en':#conditional expression\n",
    "        num_engbooks += 1 #mathematical operation \n",
    "print(\"Percent of classic books that are English is\",  calcpercent(num_engbooks,total_books)) #mathematical operation + execution of that function)"
   ]
  },
  {
   "cell_type": "code",
   "execution_count": null,
   "id": "ed9b5070-96fb-40f5-9188-5be5266841dd",
   "metadata": {},
   "outputs": [],
   "source": []
  }
 ],
 "metadata": {
  "kernelspec": {
   "display_name": "Python 3 (ipykernel)",
   "language": "python",
   "name": "python3"
  },
  "language_info": {
   "codemirror_mode": {
    "name": "ipython",
    "version": 3
   },
   "file_extension": ".py",
   "mimetype": "text/x-python",
   "name": "python",
   "nbconvert_exporter": "python",
   "pygments_lexer": "ipython3",
   "version": "3.9.6"
  }
 },
 "nbformat": 4,
 "nbformat_minor": 5
}
